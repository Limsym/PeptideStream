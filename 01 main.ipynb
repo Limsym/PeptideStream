{
 "cells": [
  {
   "cell_type": "code",
   "id": "6555c1fc03e9a761",
   "metadata": {
    "ExecuteTime": {
     "end_time": "2025-07-22T14:04:22.908817Z",
     "start_time": "2025-07-22T14:04:22.890757Z"
    }
   },
   "source": [
    "import os\n",
    "import pandas as pd\n",
    "from sklearn.model_selection import train_test_split\n",
    "import re # 正则表达式模块（regular expressions）\n"
   ],
   "outputs": [],
   "execution_count": 2
  },
  {
   "metadata": {},
   "cell_type": "code",
   "source": [
    "# === 配置部分 ===\n",
    "INPUT_FILE = \"data/peptides.csv\"  # 原始数据路径\n",
    "OUTPUT_DIR = \"data/splits\"        # 训练验证集输出路径\n",
    "VALID_AMINO_ACIDS = set(\"ACDEFGHIKLMNPQRSTVWY\")  # 标准20种氨基酸\n",
    "MIN_LENGTH = 10  # 你可以调节这个阈值\n"
   ],
   "id": "b1595ca7985ef6ec",
   "execution_count": null,
   "outputs": []
  },
  {
   "metadata": {
    "ExecuteTime": {
     "end_time": "2025-07-22T14:05:52.954564Z",
     "start_time": "2025-07-22T14:05:52.319807Z"
    }
   },
   "cell_type": "code",
   "source": [
    "def is_valid_Sequence(seq):\n",
    "    \"\"\"只保留标准氨基酸组成的序列\"\"\"\n",
    "    if not isinstance(seq, str):\n",
    "        return False\n",
    "    return all(residue in VALID_AMINO_ACIDS for residue in seq)\n",
    "\n",
    "def load_and_clean_data(file_path):\n",
    "    \"\"\"加载CSV文件并清洗非法序列\"\"\"\n",
    "    df = pd.read_csv(file_path)\n",
    "    print(f\"读取列名: {df.columns.tolist()}\")\n",
    "\n",
    "    df['Sequence'] = df['Sequence'].str.upper()\n",
    "    df = df[df['Sequence'].apply(is_valid_Sequence)]\n",
    "    df = df[df['Sequence'].str.len() >= MIN_LENGTH]  # 过滤长度\n",
    "    return df\n",
    "\n",
    "def save_split(df, output_dir, train_ratio=0.8):\n",
    "    \"\"\"划分训练/验证集并保存为txt文件\"\"\"\n",
    "    # train_df, val_df = train_test_split(df, train_size=train_ratio, random_state=42, stratify=df['label']) 现在没有label\n",
    "    train_df, val_df = train_test_split(df, train_size=train_ratio, random_state=42)\n",
    "\n",
    "    os.makedirs(output_dir, exist_ok=True)\n",
    "\n",
    "    train_path = os.path.join(output_dir, \"train.txt\")\n",
    "    val_path = os.path.join(output_dir, \"val.txt\")\n",
    "\n",
    "    train_df.to_csv(train_path, sep='\\t', index=False, header=True)\n",
    "    val_df.to_csv(val_path, sep='\\t', index=False, header=True)\n",
    "\n",
    "    print(f\"✅ 数据已成功拆分并保存：\\n - {train_path}\\n - {val_path}\")\n",
    "\n",
    "if __name__ == \"__main__\":\n",
    "    df = load_and_clean_data(INPUT_FILE)\n",
    "    print(f\"共载入 {len(df)} 条合法多肽序列（长度 ≥ {MIN_LENGTH}）。\")\n",
    "    save_split(df, OUTPUT_DIR)\n"
   ],
   "id": "61393017c7ce3b8d",
   "outputs": [
    {
     "name": "stdout",
     "output_type": "stream",
     "text": [
      "读取列名: ['DRAMP_ID', 'Sequence', 'Sequence_Length', 'Name', 'Swiss_Prot_Entry', 'Family', 'Gene', 'Source', 'Activity', 'Protein_existence', 'Structure', 'Structure_Description', 'PDB_ID', 'Comments', 'Target_Organism', 'Hemolytic_activity', 'Linear/Cyclic/Branched', 'N-terminal_Modification', 'C-terminal_Modification', 'Other_Modifications', 'Stereochemistry', 'Cytotoxicity', 'Binding_Traget', 'Pubmed_ID', 'Reference', 'Author', 'Title']\n"
     ]
    },
    {
     "ename": "NameError",
     "evalue": "name 'MIN_LENGTH' is not defined",
     "output_type": "error",
     "traceback": [
      "\u001B[1;31m---------------------------------------------------------------------------\u001B[0m",
      "\u001B[1;31mNameError\u001B[0m                                 Traceback (most recent call last)",
      "Cell \u001B[1;32mIn[4], line 33\u001B[0m\n\u001B[0;32m     30\u001B[0m     \u001B[38;5;28mprint\u001B[39m(\u001B[38;5;124mf\u001B[39m\u001B[38;5;124m\"\u001B[39m\u001B[38;5;124m✅ 数据已成功拆分并保存：\u001B[39m\u001B[38;5;130;01m\\n\u001B[39;00m\u001B[38;5;124m - \u001B[39m\u001B[38;5;132;01m{\u001B[39;00mtrain_path\u001B[38;5;132;01m}\u001B[39;00m\u001B[38;5;130;01m\\n\u001B[39;00m\u001B[38;5;124m - \u001B[39m\u001B[38;5;132;01m{\u001B[39;00mval_path\u001B[38;5;132;01m}\u001B[39;00m\u001B[38;5;124m\"\u001B[39m)\n\u001B[0;32m     32\u001B[0m \u001B[38;5;28;01mif\u001B[39;00m \u001B[38;5;18m__name__\u001B[39m \u001B[38;5;241m==\u001B[39m \u001B[38;5;124m\"\u001B[39m\u001B[38;5;124m__main__\u001B[39m\u001B[38;5;124m\"\u001B[39m:\n\u001B[1;32m---> 33\u001B[0m     df \u001B[38;5;241m=\u001B[39m \u001B[43mload_and_clean_data\u001B[49m\u001B[43m(\u001B[49m\u001B[43mINPUT_FILE\u001B[49m\u001B[43m)\u001B[49m\n\u001B[0;32m     34\u001B[0m     \u001B[38;5;28mprint\u001B[39m(\u001B[38;5;124mf\u001B[39m\u001B[38;5;124m\"\u001B[39m\u001B[38;5;124m共载入 \u001B[39m\u001B[38;5;132;01m{\u001B[39;00m\u001B[38;5;28mlen\u001B[39m(df)\u001B[38;5;132;01m}\u001B[39;00m\u001B[38;5;124m 条合法多肽序列（长度 ≥ \u001B[39m\u001B[38;5;132;01m{\u001B[39;00mMIN_LENGTH\u001B[38;5;132;01m}\u001B[39;00m\u001B[38;5;124m）。\u001B[39m\u001B[38;5;124m\"\u001B[39m)\n\u001B[0;32m     35\u001B[0m     save_split(df, OUTPUT_DIR)\n",
      "Cell \u001B[1;32mIn[4], line 14\u001B[0m, in \u001B[0;36mload_and_clean_data\u001B[1;34m(file_path)\u001B[0m\n\u001B[0;32m     12\u001B[0m df[\u001B[38;5;124m'\u001B[39m\u001B[38;5;124mSequence\u001B[39m\u001B[38;5;124m'\u001B[39m] \u001B[38;5;241m=\u001B[39m df[\u001B[38;5;124m'\u001B[39m\u001B[38;5;124mSequence\u001B[39m\u001B[38;5;124m'\u001B[39m]\u001B[38;5;241m.\u001B[39mstr\u001B[38;5;241m.\u001B[39mupper()\n\u001B[0;32m     13\u001B[0m df \u001B[38;5;241m=\u001B[39m df[df[\u001B[38;5;124m'\u001B[39m\u001B[38;5;124mSequence\u001B[39m\u001B[38;5;124m'\u001B[39m]\u001B[38;5;241m.\u001B[39mapply(is_valid_Sequence)]\n\u001B[1;32m---> 14\u001B[0m df \u001B[38;5;241m=\u001B[39m df[df[\u001B[38;5;124m'\u001B[39m\u001B[38;5;124mSequence\u001B[39m\u001B[38;5;124m'\u001B[39m]\u001B[38;5;241m.\u001B[39mstr\u001B[38;5;241m.\u001B[39mlen() \u001B[38;5;241m>\u001B[39m\u001B[38;5;241m=\u001B[39m \u001B[43mMIN_LENGTH\u001B[49m]  \u001B[38;5;66;03m# 过滤长度\u001B[39;00m\n\u001B[0;32m     15\u001B[0m \u001B[38;5;28;01mreturn\u001B[39;00m df\n",
      "\u001B[1;31mNameError\u001B[0m: name 'MIN_LENGTH' is not defined"
     ]
    }
   ],
   "execution_count": 4
  }
 ],
 "metadata": {
  "kernelspec": {
   "display_name": "Python 3",
   "language": "python",
   "name": "python3"
  },
  "language_info": {
   "codemirror_mode": {
    "name": "ipython",
    "version": 2
   },
   "file_extension": ".py",
   "mimetype": "text/x-python",
   "name": "python",
   "nbconvert_exporter": "python",
   "pygments_lexer": "ipython2",
   "version": "2.7.6"
  }
 },
 "nbformat": 4,
 "nbformat_minor": 5
}
